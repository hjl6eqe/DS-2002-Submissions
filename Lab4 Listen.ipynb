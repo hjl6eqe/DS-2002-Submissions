{
 "cells": [
  {
   "cell_type": "code",
   "execution_count": 74,
   "id": "427e7aa9",
   "metadata": {},
   "outputs": [],
   "source": [
    "import json\n",
    "import requests\n",
    "import pandas"
   ]
  },
  {
   "cell_type": "code",
   "execution_count": 75,
   "id": "d1163a7a",
   "metadata": {},
   "outputs": [
    {
     "name": "stdout",
     "output_type": "stream",
     "text": [
      "GOOG\n"
     ]
    },
    {
     "data": {
      "text/plain": [
       "'GOOG'"
      ]
     },
     "execution_count": 75,
     "metadata": {},
     "output_type": "execute_result"
    }
   ],
   "source": [
    "stock = input() \n",
    "stock"
   ]
  },
  {
   "cell_type": "code",
   "execution_count": 76,
   "id": "1790660e",
   "metadata": {},
   "outputs": [],
   "source": [
    "url = 'https://query1.finance.yahoo.com/v7/finance/quote'\n",
    "querystring = {\"symbols\": stock}"
   ]
  },
  {
   "cell_type": "code",
   "execution_count": 77,
   "id": "ad313003",
   "metadata": {},
   "outputs": [],
   "source": [
    "header_var ={\n",
    "    'User-Agent': 'Mozilla/5.0 (Macintosh; Intel Mac OS X 10_10_1) AppleWebKit/537.36 (KHTML, like Gecko) Chrome/39.0.2171.95 Safari/537.36'}\n",
    "\n",
    "response = requests.request(\"GET\",url, headers=header_var,params=querystring)"
   ]
  },
  {
   "cell_type": "code",
   "execution_count": 78,
   "id": "65dd185e",
   "metadata": {},
   "outputs": [
    {
     "data": {
      "text/plain": [
       "{'quoteResponse': {'result': [{'language': 'en-US',\n",
       "    'region': 'US',\n",
       "    'quoteType': 'EQUITY',\n",
       "    'typeDisp': 'Equity',\n",
       "    'quoteSourceName': 'Delayed Quote',\n",
       "    'triggerable': True,\n",
       "    'customPriceAlertConfidence': 'HIGH',\n",
       "    'marketState': 'CLOSED',\n",
       "    'currency': 'USD',\n",
       "    'regularMarketChangePercent': -2.537357,\n",
       "    'regularMarketPrice': 97.18,\n",
       "    'longName': 'Alphabet Inc.',\n",
       "    'messageBoardId': 'finmb_29096',\n",
       "    'exchangeTimezoneName': 'America/New_York',\n",
       "    'exchangeTimezoneShortName': 'EDT',\n",
       "    'gmtOffSetMilliseconds': -14400000,\n",
       "    'market': 'us_market',\n",
       "    'esgPopulated': False,\n",
       "    'exchange': 'NMS',\n",
       "    'shortName': 'Alphabet Inc.',\n",
       "    'regularMarketDayHigh': 101.29,\n",
       "    'regularMarketDayRange': '97.03 - 101.29',\n",
       "    'regularMarketDayLow': 97.03,\n",
       "    'regularMarketVolume': 22624832,\n",
       "    'regularMarketPreviousClose': 99.71,\n",
       "    'bid': 97.0,\n",
       "    'ask': 97.07,\n",
       "    'bidSize': 9,\n",
       "    'askSize': 8,\n",
       "    'fullExchangeName': 'NasdaqGS',\n",
       "    'financialCurrency': 'USD',\n",
       "    'regularMarketOpen': 100.625,\n",
       "    'averageDailyVolume3Month': 23530578,\n",
       "    'averageDailyVolume10Day': 21820100,\n",
       "    'fiftyTwoWeekLowChange': 1.9100037,\n",
       "    'fiftyTwoWeekLowChangePercent': 0.020048322,\n",
       "    'fiftyTwoWeekRange': '95.27 - 152.1',\n",
       "    'fiftyTwoWeekHighChange': -54.920006,\n",
       "    'fiftyTwoWeekHighChangePercent': -0.36107826,\n",
       "    'fiftyTwoWeekLow': 95.27,\n",
       "    'fiftyTwoWeekHigh': 152.1,\n",
       "    'earningsTimestamp': 1658865600,\n",
       "    'earningsTimestampStart': 1666641600,\n",
       "    'earningsTimestampEnd': 1666987200,\n",
       "    'trailingAnnualDividendRate': 0.0,\n",
       "    'trailingPE': 18.30132,\n",
       "    'trailingAnnualDividendYield': 0.0,\n",
       "    'epsTrailingTwelveMonths': 5.31,\n",
       "    'epsForward': 5.9,\n",
       "    'epsCurrentYear': 5.12,\n",
       "    'priceEpsCurrentYear': 18.980469,\n",
       "    'sharesOutstanding': 6162999808,\n",
       "    'bookValue': 19.53,\n",
       "    'fiftyDayAverage': 108.1716,\n",
       "    'fiftyDayAverageChange': -10.9916,\n",
       "    'fiftyDayAverageChangePercent': -0.10161262,\n",
       "    'twoHundredDayAverage': 120.947426,\n",
       "    'twoHundredDayAverageChange': -23.767426,\n",
       "    'twoHundredDayAverageChangePercent': -0.19651039,\n",
       "    'marketCap': 1263349661696,\n",
       "    'forwardPE': 16.471186,\n",
       "    'priceToBook': 4.9759345,\n",
       "    'sourceInterval': 15,\n",
       "    'exchangeDataDelayedBy': 0,\n",
       "    'averageAnalystRating': '1.5 - Strong Buy',\n",
       "    'tradeable': False,\n",
       "    'cryptoTradeable': False,\n",
       "    'firstTradeDateMilliseconds': 1092922200000,\n",
       "    'priceHint': 2,\n",
       "    'postMarketChangePercent': -0.13376956,\n",
       "    'postMarketTime': 1665791995,\n",
       "    'postMarketPrice': 97.05,\n",
       "    'postMarketChange': -0.12999725,\n",
       "    'regularMarketChange': -2.5299988,\n",
       "    'regularMarketTime': 1665777603,\n",
       "    'displayName': 'Alphabet',\n",
       "    'symbol': 'GOOG'}],\n",
       "  'error': None}}"
      ]
     },
     "execution_count": 78,
     "metadata": {},
     "output_type": "execute_result"
    }
   ],
   "source": [
    "stock_json = response.json()\n",
    "stock_json"
   ]
  },
  {
   "cell_type": "code",
   "execution_count": 79,
   "id": "bf195252",
   "metadata": {},
   "outputs": [
    {
     "data": {
      "text/plain": [
       "'GOOG'"
      ]
     },
     "execution_count": 79,
     "metadata": {},
     "output_type": "execute_result"
    }
   ],
   "source": [
    "stock"
   ]
  },
  {
   "cell_type": "code",
   "execution_count": 80,
   "id": "d659d8e6",
   "metadata": {},
   "outputs": [],
   "source": [
    "if stock_json['quoteResponse']['result'] == []:\n",
    "    print({\"quoteResponse\":{\"result\":[],\"error\":{\"code\":\"Not Found\",\"description\":\"Quote not found for ticker. Please start from the beginning.\"}}})"
   ]
  },
  {
   "cell_type": "code",
   "execution_count": 81,
   "id": "b005e0d0",
   "metadata": {},
   "outputs": [],
   "source": [
    "long_name = stock_json['quoteResponse']['result'][0]['longName']\n",
    "current_price = stock_json['quoteResponse']['result'][0]['regularMarketPrice']"
   ]
  },
  {
   "cell_type": "code",
   "execution_count": 82,
   "id": "c14e50bf",
   "metadata": {
    "scrolled": true
   },
   "outputs": [
    {
     "data": {
      "text/plain": [
       "{'quoteSummary': {'result': [{'financialData': {'maxAge': 86400,\n",
       "     'currentPrice': {'raw': 97.18, 'fmt': '97.18'},\n",
       "     'targetHighPrice': {'raw': 164.5, 'fmt': '164.50'},\n",
       "     'targetLowPrice': {'raw': 132.0, 'fmt': '132.00'},\n",
       "     'targetMeanPrice': {'raw': 148.95, 'fmt': '148.95'},\n",
       "     'targetMedianPrice': {'raw': 150.0, 'fmt': '150.00'},\n",
       "     'recommendationMean': {'raw': 1.5, 'fmt': '1.50'},\n",
       "     'recommendationKey': 'strong_buy',\n",
       "     'numberOfAnalystOpinions': {'raw': 10, 'fmt': '10', 'longFmt': '10'},\n",
       "     'totalCash': {'raw': 124997001216,\n",
       "      'fmt': '125B',\n",
       "      'longFmt': '124,997,001,216'},\n",
       "     'totalCashPerShare': {'raw': 9.583, 'fmt': '9.58'},\n",
       "     'ebitda': {'raw': 96886996992,\n",
       "      'fmt': '96.89B',\n",
       "      'longFmt': '96,886,996,992'},\n",
       "     'totalDebt': {'raw': 28810000384,\n",
       "      'fmt': '28.81B',\n",
       "      'longFmt': '28,810,000,384'},\n",
       "     'quickRatio': {'raw': 2.642, 'fmt': '2.64'},\n",
       "     'currentRatio': {'raw': 2.809, 'fmt': '2.81'},\n",
       "     'totalRevenue': {'raw': 278139011072,\n",
       "      'fmt': '278.14B',\n",
       "      'longFmt': '278,139,011,072'},\n",
       "     'debtToEquity': {'raw': 11.28, 'fmt': '11.28'},\n",
       "     'revenuePerShare': {'raw': 21.03, 'fmt': '21.03'},\n",
       "     'returnOnAssets': {'raw': 0.14927, 'fmt': '14.93%'},\n",
       "     'returnOnEquity': {'raw': 0.29216, 'fmt': '29.22%'},\n",
       "     'grossProfits': {'raw': 146698000000,\n",
       "      'fmt': '146.7B',\n",
       "      'longFmt': '146,698,000,000'},\n",
       "     'freeCashflow': {'raw': 51070373888,\n",
       "      'fmt': '51.07B',\n",
       "      'longFmt': '51,070,373,888'},\n",
       "     'operatingCashflow': {'raw': 95001001984,\n",
       "      'fmt': '95B',\n",
       "      'longFmt': '95,001,001,984'},\n",
       "     'earningsGrowth': {'raw': -0.113, 'fmt': '-11.30%'},\n",
       "     'revenueGrowth': {'raw': 0.126, 'fmt': '12.60%'},\n",
       "     'grossMargins': {'raw': 0.56744, 'fmt': '56.74%'},\n",
       "     'ebitdaMargins': {'raw': 0.34834, 'fmt': '34.83%'},\n",
       "     'operatingMargins': {'raw': 0.29648, 'fmt': '29.65%'},\n",
       "     'profitMargins': {'raw': 0.25892, 'fmt': '25.89%'},\n",
       "     'financialCurrency': 'USD'}}],\n",
       "  'error': None}}"
      ]
     },
     "execution_count": 82,
     "metadata": {},
     "output_type": "execute_result"
    }
   ],
   "source": [
    "url2 = \"https://query1.finance.yahoo.com/v10/finance/quoteSummary/\"\n",
    "query_str = {\"symbol\": stock, \"modules\":\"financialData\"}\n",
    "\n",
    "response = requests.request(\"GET\",url2, headers=header_var,params=query_str)\n",
    "\n",
    "stock_json = response.json()\n",
    "\n",
    "stock_json"
   ]
  },
  {
   "cell_type": "code",
   "execution_count": 83,
   "id": "1dc70657",
   "metadata": {},
   "outputs": [],
   "source": [
    "target_mean = stock_json['quoteSummary']['result'][0]['financialData']['targetMeanPrice']\n",
    "total_cash = stock_json['quoteSummary']['result'][0]['financialData']['totalCash']\n",
    "profit_margin = stock_json['quoteSummary']['result'][0]['financialData']['profitMargins']"
   ]
  },
  {
   "cell_type": "code",
   "execution_count": 84,
   "id": "0caa8f17",
   "metadata": {},
   "outputs": [],
   "source": [
    "stock_data = {\"Ticker\": stock, \"Name\": long_name, \"Current Price\":current_price, \n",
    "    \"Mean Price Target\": target_mean, \"Total Cash\": total_cash, \n",
    "    \"Profit Margin\": profit_margin, \"Date Pulled\": \"Friday, October 14th\"\n",
    "}"
   ]
  },
  {
   "cell_type": "code",
   "execution_count": 85,
   "id": "7f150f44",
   "metadata": {
    "scrolled": true
   },
   "outputs": [
    {
     "data": {
      "text/plain": [
       "{'Ticker': 'GOOG',\n",
       " 'Name': 'Alphabet Inc.',\n",
       " 'Current Price': 97.18,\n",
       " 'Mean Price Target': {'raw': 148.95, 'fmt': '148.95'},\n",
       " 'Total Cash': {'raw': 124997001216,\n",
       "  'fmt': '125B',\n",
       "  'longFmt': '124,997,001,216'},\n",
       " 'Profit Margin': {'raw': 0.25892, 'fmt': '25.89%'},\n",
       " 'Date Pulled': 'Friday, October 14th'}"
      ]
     },
     "execution_count": 85,
     "metadata": {},
     "output_type": "execute_result"
    }
   ],
   "source": [
    "stock_data"
   ]
  },
  {
   "cell_type": "code",
   "execution_count": 86,
   "id": "77613d07",
   "metadata": {},
   "outputs": [],
   "source": [
    "path = \"/Users/harrisonlisten/Desktop/UVA/4th-Year/DS2002\"\n",
    "file_name = \"Listen_Lab4\"\n",
    "def writeToJSONFile(path, file_name, stock_data):\n",
    "    PathExt = path + '/' + file_name + '.json'\n",
    "    with open(PathExt, 'w') as fp:\n",
    "        json.dump(stock_data, fp)\n",
    "\n",
    "writeToJSONFile(path, file_name, stock_data)"
   ]
  }
 ],
 "metadata": {
  "kernelspec": {
   "display_name": "Python 3 (ipykernel)",
   "language": "python",
   "name": "python3"
  },
  "language_info": {
   "codemirror_mode": {
    "name": "ipython",
    "version": 3
   },
   "file_extension": ".py",
   "mimetype": "text/x-python",
   "name": "python",
   "nbconvert_exporter": "python",
   "pygments_lexer": "ipython3",
   "version": "3.7.4"
  }
 },
 "nbformat": 4,
 "nbformat_minor": 5
}
